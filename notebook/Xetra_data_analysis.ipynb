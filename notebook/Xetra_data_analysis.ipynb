{
 "cells": [
  {
   "cell_type": "markdown",
   "id": "e10cfabd",
   "metadata": {},
   "source": [
    "### Notebook analysis the data to get a first hand impression"
   ]
  },
  {
   "cell_type": "code",
   "execution_count": 88,
   "id": "14571081",
   "metadata": {},
   "outputs": [],
   "source": [
    "import pandas as pd\n",
    "import os, sys\n",
    "import pyarrow.parquet as pq\n",
    "from pyarrow import csv\n",
    "from calendar import monthrange\n",
    "from google.cloud.storage import Client\n",
    "from google.cloud import storage\n",
    "import fsspec\n",
    "import gcsfs\n",
    "from dotenv import load_dotenv\n",
    "from hashlib import sha1"
   ]
  },
  {
   "cell_type": "markdown",
   "id": "77bfe447",
   "metadata": {},
   "source": [
    "Data is available from 2022-01-03 - 2022-04-25"
   ]
  },
  {
   "cell_type": "code",
   "execution_count": 2,
   "id": "135e2b81",
   "metadata": {},
   "outputs": [
    {
     "data": {
      "text/plain": [
       "True"
      ]
     },
     "execution_count": 2,
     "metadata": {},
     "output_type": "execute_result"
    }
   ],
   "source": [
    "load_dotenv()"
   ]
  },
  {
   "cell_type": "code",
   "execution_count": 70,
   "id": "721e92c0",
   "metadata": {},
   "outputs": [],
   "source": [
    "data = r'../../data/xetra/2022-04-22/2022-04-22_BINS_XETR07.csv'"
   ]
  },
  {
   "cell_type": "code",
   "execution_count": 71,
   "id": "ff50acf1",
   "metadata": {},
   "outputs": [],
   "source": [
    "df = pd.read_csv(data)"
   ]
  },
  {
   "cell_type": "code",
   "execution_count": 72,
   "id": "0117021f",
   "metadata": {},
   "outputs": [
    {
     "data": {
      "text/plain": [
       "(16054, 14)"
      ]
     },
     "execution_count": 72,
     "metadata": {},
     "output_type": "execute_result"
    }
   ],
   "source": [
    "df.shape"
   ]
  },
  {
   "cell_type": "code",
   "execution_count": 73,
   "id": "10a8c3ab",
   "metadata": {},
   "outputs": [
    {
     "data": {
      "text/plain": [
       "ISIN              0\n",
       "Mnemonic          0\n",
       "SecurityDesc      0\n",
       "SecurityType      0\n",
       "Currency          0\n",
       "SecurityID        0\n",
       "Date              0\n",
       "Time              0\n",
       "StartPrice        0\n",
       "MaxPrice          0\n",
       "MinPrice          0\n",
       "EndPrice          0\n",
       "TradedVolume      0\n",
       "NumberOfTrades    0\n",
       "dtype: int64"
      ]
     },
     "execution_count": 73,
     "metadata": {},
     "output_type": "execute_result"
    }
   ],
   "source": [
    "df.isnull().sum()"
   ]
  },
  {
   "cell_type": "code",
   "execution_count": 74,
   "id": "ac46f0e1",
   "metadata": {},
   "outputs": [
    {
     "data": {
      "text/html": [
       "<div>\n",
       "<style scoped>\n",
       "    .dataframe tbody tr th:only-of-type {\n",
       "        vertical-align: middle;\n",
       "    }\n",
       "\n",
       "    .dataframe tbody tr th {\n",
       "        vertical-align: top;\n",
       "    }\n",
       "\n",
       "    .dataframe thead th {\n",
       "        text-align: right;\n",
       "    }\n",
       "</style>\n",
       "<table border=\"1\" class=\"dataframe\">\n",
       "  <thead>\n",
       "    <tr style=\"text-align: right;\">\n",
       "      <th></th>\n",
       "      <th>ISIN</th>\n",
       "      <th>Mnemonic</th>\n",
       "      <th>SecurityDesc</th>\n",
       "      <th>SecurityType</th>\n",
       "      <th>Currency</th>\n",
       "      <th>SecurityID</th>\n",
       "      <th>Date</th>\n",
       "      <th>Time</th>\n",
       "      <th>StartPrice</th>\n",
       "      <th>MaxPrice</th>\n",
       "      <th>MinPrice</th>\n",
       "      <th>EndPrice</th>\n",
       "      <th>TradedVolume</th>\n",
       "      <th>NumberOfTrades</th>\n",
       "    </tr>\n",
       "  </thead>\n",
       "  <tbody>\n",
       "    <tr>\n",
       "      <th>0</th>\n",
       "      <td>AT0000A0E9W5</td>\n",
       "      <td>SANT</td>\n",
       "      <td>S+T AG O.N.</td>\n",
       "      <td>Common stock</td>\n",
       "      <td>EUR</td>\n",
       "      <td>2504159</td>\n",
       "      <td>2022-04-22</td>\n",
       "      <td>07:00</td>\n",
       "      <td>16.450</td>\n",
       "      <td>16.45</td>\n",
       "      <td>16.450</td>\n",
       "      <td>16.45</td>\n",
       "      <td>5</td>\n",
       "      <td>1</td>\n",
       "    </tr>\n",
       "    <tr>\n",
       "      <th>1</th>\n",
       "      <td>DE000A0DJ6J9</td>\n",
       "      <td>S92</td>\n",
       "      <td>SMA SOLAR TECHNOL.AG</td>\n",
       "      <td>Common stock</td>\n",
       "      <td>EUR</td>\n",
       "      <td>2504287</td>\n",
       "      <td>2022-04-22</td>\n",
       "      <td>07:00</td>\n",
       "      <td>40.980</td>\n",
       "      <td>40.98</td>\n",
       "      <td>40.620</td>\n",
       "      <td>40.82</td>\n",
       "      <td>1643</td>\n",
       "      <td>10</td>\n",
       "    </tr>\n",
       "    <tr>\n",
       "      <th>2</th>\n",
       "      <td>DE000A0D6554</td>\n",
       "      <td>NDX1</td>\n",
       "      <td>NORDEX SE O.N.</td>\n",
       "      <td>Common stock</td>\n",
       "      <td>EUR</td>\n",
       "      <td>2504290</td>\n",
       "      <td>2022-04-22</td>\n",
       "      <td>07:00</td>\n",
       "      <td>15.855</td>\n",
       "      <td>16.05</td>\n",
       "      <td>15.855</td>\n",
       "      <td>15.97</td>\n",
       "      <td>59288</td>\n",
       "      <td>86</td>\n",
       "    </tr>\n",
       "    <tr>\n",
       "      <th>3</th>\n",
       "      <td>DE000A0D9PT0</td>\n",
       "      <td>MTX</td>\n",
       "      <td>MTU AERO ENGINES NA O.N.</td>\n",
       "      <td>Common stock</td>\n",
       "      <td>EUR</td>\n",
       "      <td>2504297</td>\n",
       "      <td>2022-04-22</td>\n",
       "      <td>07:00</td>\n",
       "      <td>196.550</td>\n",
       "      <td>196.75</td>\n",
       "      <td>195.750</td>\n",
       "      <td>196.35</td>\n",
       "      <td>2989</td>\n",
       "      <td>35</td>\n",
       "    </tr>\n",
       "    <tr>\n",
       "      <th>4</th>\n",
       "      <td>DE000A0HN5C6</td>\n",
       "      <td>DWNI</td>\n",
       "      <td>DEUTSCHE WOHNEN SE INH</td>\n",
       "      <td>Common stock</td>\n",
       "      <td>EUR</td>\n",
       "      <td>2504314</td>\n",
       "      <td>2022-04-22</td>\n",
       "      <td>07:00</td>\n",
       "      <td>28.030</td>\n",
       "      <td>28.03</td>\n",
       "      <td>28.030</td>\n",
       "      <td>28.03</td>\n",
       "      <td>236</td>\n",
       "      <td>1</td>\n",
       "    </tr>\n",
       "  </tbody>\n",
       "</table>\n",
       "</div>"
      ],
      "text/plain": [
       "           ISIN Mnemonic              SecurityDesc  SecurityType Currency   \n",
       "0  AT0000A0E9W5     SANT               S+T AG O.N.  Common stock      EUR  \\\n",
       "1  DE000A0DJ6J9      S92      SMA SOLAR TECHNOL.AG  Common stock      EUR   \n",
       "2  DE000A0D6554     NDX1            NORDEX SE O.N.  Common stock      EUR   \n",
       "3  DE000A0D9PT0      MTX  MTU AERO ENGINES NA O.N.  Common stock      EUR   \n",
       "4  DE000A0HN5C6     DWNI    DEUTSCHE WOHNEN SE INH  Common stock      EUR   \n",
       "\n",
       "   SecurityID        Date   Time  StartPrice  MaxPrice  MinPrice  EndPrice   \n",
       "0     2504159  2022-04-22  07:00      16.450     16.45    16.450     16.45  \\\n",
       "1     2504287  2022-04-22  07:00      40.980     40.98    40.620     40.82   \n",
       "2     2504290  2022-04-22  07:00      15.855     16.05    15.855     15.97   \n",
       "3     2504297  2022-04-22  07:00     196.550    196.75   195.750    196.35   \n",
       "4     2504314  2022-04-22  07:00      28.030     28.03    28.030     28.03   \n",
       "\n",
       "   TradedVolume  NumberOfTrades  \n",
       "0             5               1  \n",
       "1          1643              10  \n",
       "2         59288              86  \n",
       "3          2989              35  \n",
       "4           236               1  "
      ]
     },
     "execution_count": 74,
     "metadata": {},
     "output_type": "execute_result"
    }
   ],
   "source": [
    "df.head()"
   ]
  },
  {
   "cell_type": "code",
   "execution_count": 196,
   "id": "59a86442",
   "metadata": {},
   "outputs": [
    {
     "data": {
      "text/plain": [
       "ISIN               object\n",
       "Mnemonic           object\n",
       "SecurityDesc       object\n",
       "SecurityType       object\n",
       "Currency           object\n",
       "SecurityID          int64\n",
       "Date               object\n",
       "Time               object\n",
       "StartPrice        float64\n",
       "MaxPrice          float64\n",
       "MinPrice          float64\n",
       "EndPrice          float64\n",
       "TradedVolume        int64\n",
       "NumberOfTrades      int64\n",
       "dtype: object"
      ]
     },
     "execution_count": 196,
     "metadata": {},
     "output_type": "execute_result"
    }
   ],
   "source": [
    "df.dtypes"
   ]
  },
  {
   "cell_type": "code",
   "execution_count": 12,
   "id": "08aea342",
   "metadata": {},
   "outputs": [
    {
     "data": {
      "text/plain": [
       "Mnemonic\n",
       "VOW3    60\n",
       "DAI     60\n",
       "IFX     60\n",
       "LIN     60\n",
       "BMW     60\n",
       "        ..\n",
       "V20D     1\n",
       "MVEA     1\n",
       "LV2B     1\n",
       "XCO2     1\n",
       "W8A      1\n",
       "Name: count, Length: 1578, dtype: int64"
      ]
     },
     "execution_count": 12,
     "metadata": {},
     "output_type": "execute_result"
    }
   ],
   "source": [
    "# distribution of Mnenomic\n",
    "df[\"Mnemonic\"].value_counts()"
   ]
  },
  {
   "cell_type": "code",
   "execution_count": 13,
   "id": "9f33f0c4",
   "metadata": {},
   "outputs": [
    {
     "data": {
      "text/plain": [
       "SecurityType\n",
       "Common stock    6817\n",
       "ETF             4905\n",
       "ETN              186\n",
       "ETC              165\n",
       "Name: count, dtype: int64"
      ]
     },
     "execution_count": 13,
     "metadata": {},
     "output_type": "execute_result"
    }
   ],
   "source": [
    "df[\"SecurityType\"].value_counts()"
   ]
  },
  {
   "cell_type": "code",
   "execution_count": 14,
   "id": "922e30fe",
   "metadata": {},
   "outputs": [
    {
     "data": {
      "text/plain": [
       "Currency\n",
       "EUR    12069\n",
       "USD        2\n",
       "GBP        1\n",
       "SEK        1\n",
       "Name: count, dtype: int64"
      ]
     },
     "execution_count": 14,
     "metadata": {},
     "output_type": "execute_result"
    }
   ],
   "source": [
    "df[\"Currency\"].value_counts()"
   ]
  },
  {
   "cell_type": "code",
   "execution_count": 16,
   "id": "92a65fa1",
   "metadata": {},
   "outputs": [
    {
     "data": {
      "text/plain": [
       "1578"
      ]
     },
     "execution_count": 16,
     "metadata": {},
     "output_type": "execute_result"
    }
   ],
   "source": [
    "df[\"ISIN\"].nunique()"
   ]
  },
  {
   "cell_type": "code",
   "execution_count": 44,
   "id": "467e32a9",
   "metadata": {},
   "outputs": [
    {
     "data": {
      "text/plain": [
       "array(['10:00', '10:01', '10:02', '10:03', '10:04', '10:05', '10:06',\n",
       "       '10:07', '10:08', '10:09', '10:10', '10:11', '10:12', '10:13',\n",
       "       '10:14', '10:15', '10:16', '10:17', '10:18', '10:19', '10:20',\n",
       "       '10:21', '10:22', '10:23', '10:24', '10:25', '10:26', '10:27',\n",
       "       '10:28', '10:29', '10:30', '10:31', '10:32', '10:33', '10:34',\n",
       "       '10:35', '10:36', '10:37', '10:38', '10:39', '10:40', '10:41',\n",
       "       '10:42', '10:43', '10:44', '10:45', '10:46', '10:47', '10:48',\n",
       "       '10:49', '10:50', '10:51', '10:52', '10:53', '10:54', '10:55',\n",
       "       '10:56', '10:57', '10:58', '10:59'], dtype=object)"
      ]
     },
     "execution_count": 44,
     "metadata": {},
     "output_type": "execute_result"
    }
   ],
   "source": [
    "df[\"Time\"].unique()"
   ]
  },
  {
   "cell_type": "code",
   "execution_count": 18,
   "id": "972766bb",
   "metadata": {},
   "outputs": [],
   "source": [
    "possible_columns_to_use = \\\n",
    "[\n",
    "\"ISIN\",\n",
    "\"Date\",\n",
    "\"Time\",\n",
    "\"StartPrice\",\n",
    "\"MaxPrice\",\n",
    "\"MinPrice\",\n",
    "\"EndPrice\",\n",
    "\"TradedVolume\"\n",
    "]"
   ]
  },
  {
   "cell_type": "code",
   "execution_count": 20,
   "id": "5572e0d2",
   "metadata": {},
   "outputs": [],
   "source": [
    "arr = csv.read_csv(data)"
   ]
  },
  {
   "cell_type": "code",
   "execution_count": 21,
   "id": "bd2299a3",
   "metadata": {},
   "outputs": [
    {
     "data": {
      "text/plain": [
       "ISIN: string\n",
       "Mnemonic: string\n",
       "SecurityDesc: string\n",
       "SecurityType: string\n",
       "Currency: string\n",
       "SecurityID: int64\n",
       "Date: date32[day]\n",
       "Time: time32[s]\n",
       "StartPrice: double\n",
       "MaxPrice: double\n",
       "MinPrice: double\n",
       "EndPrice: double\n",
       "TradedVolume: int64\n",
       "NumberOfTrades: int64"
      ]
     },
     "execution_count": 21,
     "metadata": {},
     "output_type": "execute_result"
    }
   ],
   "source": [
    "arr.schema"
   ]
  },
  {
   "cell_type": "code",
   "execution_count": 198,
   "id": "2242209f",
   "metadata": {},
   "outputs": [
    {
     "data": {
      "text/plain": [
       "ISIN               object\n",
       "Mnemonic           object\n",
       "SecurityDesc       object\n",
       "SecurityType       object\n",
       "Currency           object\n",
       "SecurityID          int64\n",
       "Date               object\n",
       "Time               object\n",
       "StartPrice        float64\n",
       "MaxPrice          float64\n",
       "MinPrice          float64\n",
       "EndPrice          float64\n",
       "TradedVolume        int64\n",
       "NumberOfTrades      int64\n",
       "dtype: object"
      ]
     },
     "execution_count": 198,
     "metadata": {},
     "output_type": "execute_result"
    }
   ],
   "source": [
    "arr.to_pandas().dtypes"
   ]
  },
  {
   "cell_type": "code",
   "execution_count": 24,
   "id": "2c4e5c84",
   "metadata": {},
   "outputs": [],
   "source": [
    "def leap_year(year):\n",
    "    \"\"\"Check whether year is a leap year or not\"\"\"\n",
    "    return (year%4 == 0) and not ( year%100 == 0) or year%400 == 0"
   ]
  },
  {
   "cell_type": "code",
   "execution_count": 36,
   "id": "33b2e5d7",
   "metadata": {},
   "outputs": [
    {
     "data": {
      "text/plain": [
       "False"
      ]
     },
     "execution_count": 36,
     "metadata": {},
     "output_type": "execute_result"
    }
   ],
   "source": [
    "leap_year(2023)"
   ]
  },
  {
   "cell_type": "code",
   "execution_count": 42,
   "id": "d78e1605",
   "metadata": {},
   "outputs": [
    {
     "data": {
      "text/plain": [
       "(5, 29)"
      ]
     },
     "execution_count": 42,
     "metadata": {},
     "output_type": "execute_result"
    }
   ],
   "source": [
    "monthrange(2020, 2)"
   ]
  },
  {
   "cell_type": "code",
   "execution_count": 115,
   "id": "4e1dcd88",
   "metadata": {},
   "outputs": [],
   "source": [
    "# read parquet file from gcs\n",
    "client = Client()\n",
    "bucket = client.get_bucket(\"xetra-ds\")\n",
    "blob = bucket.get_blob(\"data/xetra/2022-01-03/2022-01-03_BINS_XETR08.parquet\")\n",
    "# UnicodeDecodeError: 'utf-8' codec can't decode byte 0xc0 in position 7: invalid start byte\n",
    "# downloaded_file = blob.download_as_text(encoding=\"utf-8\")"
   ]
  },
  {
   "cell_type": "code",
   "execution_count": 3,
   "id": "6e73fd6a",
   "metadata": {},
   "outputs": [],
   "source": [
    "#pd.read_csv(blob.download_as_string())"
   ]
  },
  {
   "cell_type": "code",
   "execution_count": 111,
   "id": "5720efda",
   "metadata": {},
   "outputs": [],
   "source": [
    "def read_parquet(gs_directory_path, to_pandas=True):\n",
    "    \"\"\"\n",
    "    Reads multiple (partitioned) parquet files from a GS directory\n",
    "    e.g. 'gs://<bucket>/<directory>' (without ending /)\n",
    "    \"\"\"\n",
    "    #gs = fsspec.filesystem(\"gcs\", project='data-eng-375913')\n",
    "    gs = gcsfs.GCSFileSystem(project=os.environ.get(\"GCP_PROJECT_ID\"))\n",
    "    arrow_df = pq.ParquetDataset(gs_directory_path, filesystem=gs)\n",
    "    if to_pandas:\n",
    "        return arrow_df.read().to_pandas()\n",
    "    return arrow_df"
   ]
  },
  {
   "cell_type": "code",
   "execution_count": 113,
   "id": "8f4481b8",
   "metadata": {},
   "outputs": [],
   "source": [
    "# OSError: Forbidden: b/data/o\n",
    "# de.datacamp@gmail.com does not have storage.objects.list access to the Google Cloud Storage bucket. Permission 'storage.objects.list' denied on resource (or it may not exist)\n",
    "#dd = read_parquet(\"data/xetra/2022-01-03/2022-01-03_BINS_XETR08.parquet\", to_pandas=True)"
   ]
  },
  {
   "cell_type": "code",
   "execution_count": 174,
   "id": "a3968656",
   "metadata": {},
   "outputs": [],
   "source": [
    "def list_blobs(bucket_name, prefix, delimiter=\"\"):\n",
    "    \"\"\"Lists all the blobs in the bucket.\"\"\"\n",
    "    \n",
    "    storage_client = storage.Client()\n",
    "\n",
    "    # Note: Client.list_blobs requires at least package version 1.17.0.\n",
    "    blobs = storage_client.list_blobs(bucket_name, prefix=prefix, delimiter=delimiter)\n",
    "\n",
    "    # Note: The call returns a response only when the iterator is consumed.\n",
    "    num =0\n",
    "    for blob in blobs:\n",
    "        num += 1\n",
    "        print(blob.name)\n",
    "    print(num)"
   ]
  },
  {
   "cell_type": "code",
   "execution_count": 176,
   "id": "e234b200",
   "metadata": {},
   "outputs": [
    {
     "name": "stdout",
     "output_type": "stream",
     "text": [
      "data/xetra/2022-04-22/2022-04-22_BINS_XETR07.parquet\n",
      "data/xetra/2022-04-22/2022-04-22_BINS_XETR08.parquet\n",
      "data/xetra/2022-04-22/2022-04-22_BINS_XETR09.parquet\n",
      "data/xetra/2022-04-22/2022-04-22_BINS_XETR10.parquet\n",
      "data/xetra/2022-04-22/2022-04-22_BINS_XETR11.parquet\n",
      "data/xetra/2022-04-22/2022-04-22_BINS_XETR12.parquet\n",
      "data/xetra/2022-04-22/2022-04-22_BINS_XETR13.parquet\n",
      "data/xetra/2022-04-22/2022-04-22_BINS_XETR14.parquet\n",
      "data/xetra/2022-04-22/2022-04-22_BINS_XETR15.parquet\n",
      "9\n"
     ]
    }
   ],
   "source": [
    "list_blobs(\"xetra-ds\", \"data/xetra/2022-04-22\")"
   ]
  },
  {
   "cell_type": "code",
   "execution_count": 121,
   "id": "182e1206",
   "metadata": {},
   "outputs": [],
   "source": [
    "gcs_path = \"gs://xetra-ds/data/xetra/2022-01-03/2022-01-03_BINS_XETR08.parquet\"\n",
    "dd = pd.read_parquet(gcs_path)"
   ]
  },
  {
   "cell_type": "code",
   "execution_count": 122,
   "id": "378ab499",
   "metadata": {},
   "outputs": [
    {
     "data": {
      "text/plain": [
       "(16961, 14)"
      ]
     },
     "execution_count": 122,
     "metadata": {},
     "output_type": "execute_result"
    }
   ],
   "source": [
    "dd.shape"
   ]
  },
  {
   "cell_type": "code",
   "execution_count": 123,
   "id": "b3cf0906",
   "metadata": {},
   "outputs": [
    {
     "data": {
      "text/html": [
       "<div>\n",
       "<style scoped>\n",
       "    .dataframe tbody tr th:only-of-type {\n",
       "        vertical-align: middle;\n",
       "    }\n",
       "\n",
       "    .dataframe tbody tr th {\n",
       "        vertical-align: top;\n",
       "    }\n",
       "\n",
       "    .dataframe thead th {\n",
       "        text-align: right;\n",
       "    }\n",
       "</style>\n",
       "<table border=\"1\" class=\"dataframe\">\n",
       "  <thead>\n",
       "    <tr style=\"text-align: right;\">\n",
       "      <th></th>\n",
       "      <th>ISIN</th>\n",
       "      <th>Mnemonic</th>\n",
       "      <th>SecurityDesc</th>\n",
       "      <th>SecurityType</th>\n",
       "      <th>Currency</th>\n",
       "      <th>SecurityID</th>\n",
       "      <th>Date</th>\n",
       "      <th>Time</th>\n",
       "      <th>StartPrice</th>\n",
       "      <th>MaxPrice</th>\n",
       "      <th>MinPrice</th>\n",
       "      <th>EndPrice</th>\n",
       "      <th>TradedVolume</th>\n",
       "      <th>NumberOfTrades</th>\n",
       "    </tr>\n",
       "  </thead>\n",
       "  <tbody>\n",
       "    <tr>\n",
       "      <th>0</th>\n",
       "      <td>AT0000A0E9W5</td>\n",
       "      <td>SANT</td>\n",
       "      <td>S+T AG O.N.</td>\n",
       "      <td>Common stock</td>\n",
       "      <td>EUR</td>\n",
       "      <td>2504159</td>\n",
       "      <td>2022-01-03</td>\n",
       "      <td>08:00:00</td>\n",
       "      <td>14.76</td>\n",
       "      <td>14.76</td>\n",
       "      <td>14.75</td>\n",
       "      <td>14.75</td>\n",
       "      <td>4414</td>\n",
       "      <td>2</td>\n",
       "    </tr>\n",
       "    <tr>\n",
       "      <th>1</th>\n",
       "      <td>DE000A0DJ6J9</td>\n",
       "      <td>S92</td>\n",
       "      <td>SMA SOLAR TECHNOL.AG</td>\n",
       "      <td>Common stock</td>\n",
       "      <td>EUR</td>\n",
       "      <td>2504287</td>\n",
       "      <td>2022-01-03</td>\n",
       "      <td>08:00:00</td>\n",
       "      <td>37.64</td>\n",
       "      <td>37.66</td>\n",
       "      <td>37.60</td>\n",
       "      <td>37.66</td>\n",
       "      <td>1649</td>\n",
       "      <td>3</td>\n",
       "    </tr>\n",
       "    <tr>\n",
       "      <th>2</th>\n",
       "      <td>DE000A0D6554</td>\n",
       "      <td>NDX1</td>\n",
       "      <td>NORDEX SE O.N.</td>\n",
       "      <td>Common stock</td>\n",
       "      <td>EUR</td>\n",
       "      <td>2504290</td>\n",
       "      <td>2022-01-03</td>\n",
       "      <td>08:00:00</td>\n",
       "      <td>13.99</td>\n",
       "      <td>14.03</td>\n",
       "      <td>13.94</td>\n",
       "      <td>13.96</td>\n",
       "      <td>23011</td>\n",
       "      <td>36</td>\n",
       "    </tr>\n",
       "    <tr>\n",
       "      <th>3</th>\n",
       "      <td>DE000A0D9PT0</td>\n",
       "      <td>MTX</td>\n",
       "      <td>MTU AERO ENGINES NA O.N.</td>\n",
       "      <td>Common stock</td>\n",
       "      <td>EUR</td>\n",
       "      <td>2504297</td>\n",
       "      <td>2022-01-03</td>\n",
       "      <td>08:00:00</td>\n",
       "      <td>180.00</td>\n",
       "      <td>180.05</td>\n",
       "      <td>179.50</td>\n",
       "      <td>179.50</td>\n",
       "      <td>2308</td>\n",
       "      <td>22</td>\n",
       "    </tr>\n",
       "    <tr>\n",
       "      <th>4</th>\n",
       "      <td>DE000A0HN5C6</td>\n",
       "      <td>DWNI</td>\n",
       "      <td>DEUTSCHE WOHNEN SE INH</td>\n",
       "      <td>Common stock</td>\n",
       "      <td>EUR</td>\n",
       "      <td>2504314</td>\n",
       "      <td>2022-01-03</td>\n",
       "      <td>08:00:00</td>\n",
       "      <td>37.28</td>\n",
       "      <td>37.28</td>\n",
       "      <td>37.28</td>\n",
       "      <td>37.28</td>\n",
       "      <td>2897</td>\n",
       "      <td>1</td>\n",
       "    </tr>\n",
       "  </tbody>\n",
       "</table>\n",
       "</div>"
      ],
      "text/plain": [
       "           ISIN Mnemonic              SecurityDesc  SecurityType Currency   \n",
       "0  AT0000A0E9W5     SANT               S+T AG O.N.  Common stock      EUR  \\\n",
       "1  DE000A0DJ6J9      S92      SMA SOLAR TECHNOL.AG  Common stock      EUR   \n",
       "2  DE000A0D6554     NDX1            NORDEX SE O.N.  Common stock      EUR   \n",
       "3  DE000A0D9PT0      MTX  MTU AERO ENGINES NA O.N.  Common stock      EUR   \n",
       "4  DE000A0HN5C6     DWNI    DEUTSCHE WOHNEN SE INH  Common stock      EUR   \n",
       "\n",
       "   SecurityID       Date      Time  StartPrice  MaxPrice  MinPrice  EndPrice   \n",
       "0     2504159 2022-01-03  08:00:00       14.76     14.76     14.75     14.75  \\\n",
       "1     2504287 2022-01-03  08:00:00       37.64     37.66     37.60     37.66   \n",
       "2     2504290 2022-01-03  08:00:00       13.99     14.03     13.94     13.96   \n",
       "3     2504297 2022-01-03  08:00:00      180.00    180.05    179.50    179.50   \n",
       "4     2504314 2022-01-03  08:00:00       37.28     37.28     37.28     37.28   \n",
       "\n",
       "   TradedVolume  NumberOfTrades  \n",
       "0          4414               2  \n",
       "1          1649               3  \n",
       "2         23011              36  \n",
       "3          2308              22  \n",
       "4          2897               1  "
      ]
     },
     "execution_count": 123,
     "metadata": {},
     "output_type": "execute_result"
    }
   ],
   "source": [
    "dd.head()"
   ]
  },
  {
   "cell_type": "code",
   "execution_count": 75,
   "id": "52a24bd1",
   "metadata": {},
   "outputs": [],
   "source": [
    "df[\"key\"] = df[\"ISIN\"].fillna(\"\") + \"_\" + df[\"Date\"].astype(str).fillna(\"\") + \"_\" + df[\"Time\"].astype(str).fillna(\"\")"
   ]
  },
  {
   "cell_type": "code",
   "execution_count": 92,
   "id": "66f02d09",
   "metadata": {},
   "outputs": [],
   "source": [
    "def sha(row):\n",
    "    return sha1(row).hexdigest()"
   ]
  },
  {
   "cell_type": "code",
   "execution_count": 93,
   "id": "1f77a956",
   "metadata": {},
   "outputs": [
    {
     "data": {
      "text/plain": [
       "0        0b46e967a16dd0fb5fad9ded77a62eae477d5839\n",
       "1        13a5b400aa3672cb7df79509fa56c967ad9841b2\n",
       "2        27b6db84c488562a3b29a09d214e49b561446d6c\n",
       "3        9a817ca7f1a45e37f69dd8b0671bf210460cb726\n",
       "4        b6d50a564a4ce5679de911e43b865ac2c2e6c1d1\n",
       "                           ...                   \n",
       "16049    c17404a39016bb1d6aecab8e209ac30f2125d41c\n",
       "16050    f42de26a66f15c62ce5948df0cd2b0de18be8c7c\n",
       "16051    2a409a766e149e1370b36c214ffd18a94ff02c07\n",
       "16052    b48bf40037e44bac280848b95e45f4811cce6a11\n",
       "16053    20f6aa4fb7226d2789c349a2653b66bf00eef0f3\n",
       "Name: key, Length: 16054, dtype: object"
      ]
     },
     "execution_count": 93,
     "metadata": {},
     "output_type": "execute_result"
    }
   ],
   "source": [
    "df[\"key\"].str.lower().str.encode('utf-8').apply(sha)"
   ]
  },
  {
   "cell_type": "code",
   "execution_count": 4,
   "id": "57232202",
   "metadata": {},
   "outputs": [],
   "source": [
    "ds = pd.read_csv(\"../config/datasets_loaded.csv\")"
   ]
  },
  {
   "cell_type": "code",
   "execution_count": 57,
   "id": "88d8037d",
   "metadata": {},
   "outputs": [],
   "source": [
    "prefix = \"2022-03-26\"\n",
    "r = ds.query(\"prefix == @prefix\")"
   ]
  },
  {
   "cell_type": "code",
   "execution_count": 59,
   "id": "2b3f66aa",
   "metadata": {},
   "outputs": [],
   "source": [
    "try:\n",
    "    ds = pd.read_csv(\"../config/datasets_loaded.csv\")\n",
    "except Exception as e:\n",
    "    raise(e)"
   ]
  },
  {
   "cell_type": "code",
   "execution_count": 60,
   "id": "8d4d5441",
   "metadata": {},
   "outputs": [
    {
     "data": {
      "text/html": [
       "<div>\n",
       "<style scoped>\n",
       "    .dataframe tbody tr th:only-of-type {\n",
       "        vertical-align: middle;\n",
       "    }\n",
       "\n",
       "    .dataframe tbody tr th {\n",
       "        vertical-align: top;\n",
       "    }\n",
       "\n",
       "    .dataframe thead th {\n",
       "        text-align: right;\n",
       "    }\n",
       "</style>\n",
       "<table border=\"1\" class=\"dataframe\">\n",
       "  <thead>\n",
       "    <tr style=\"text-align: right;\">\n",
       "      <th></th>\n",
       "      <th>prefix</th>\n",
       "      <th>last_modified_date</th>\n",
       "    </tr>\n",
       "  </thead>\n",
       "  <tbody>\n",
       "    <tr>\n",
       "      <th>0</th>\n",
       "      <td>2022-03-25</td>\n",
       "      <td>2023-04-23</td>\n",
       "    </tr>\n",
       "    <tr>\n",
       "      <th>1</th>\n",
       "      <td>2022-04-14</td>\n",
       "      <td>2023-04-14</td>\n",
       "    </tr>\n",
       "    <tr>\n",
       "      <th>2</th>\n",
       "      <td>2022-04-19</td>\n",
       "      <td>2023-04-13</td>\n",
       "    </tr>\n",
       "    <tr>\n",
       "      <th>3</th>\n",
       "      <td>2022-04-20</td>\n",
       "      <td>2023-04-13</td>\n",
       "    </tr>\n",
       "    <tr>\n",
       "      <th>4</th>\n",
       "      <td>2022-04-21</td>\n",
       "      <td>2022-04-13</td>\n",
       "    </tr>\n",
       "    <tr>\n",
       "      <th>5</th>\n",
       "      <td>2022-04-22</td>\n",
       "      <td>2022-04-13</td>\n",
       "    </tr>\n",
       "  </tbody>\n",
       "</table>\n",
       "</div>"
      ],
      "text/plain": [
       "       prefix last_modified_date\n",
       "0  2022-03-25         2023-04-23\n",
       "1  2022-04-14         2023-04-14\n",
       "2  2022-04-19         2023-04-13\n",
       "3  2022-04-20         2023-04-13\n",
       "4  2022-04-21         2022-04-13\n",
       "5  2022-04-22         2022-04-13"
      ]
     },
     "execution_count": 60,
     "metadata": {},
     "output_type": "execute_result"
    }
   ],
   "source": [
    "ds"
   ]
  },
  {
   "cell_type": "code",
   "execution_count": 61,
   "id": "550a0907",
   "metadata": {},
   "outputs": [],
   "source": [
    "from datetime import datetime"
   ]
  },
  {
   "cell_type": "code",
   "execution_count": 65,
   "id": "92f61521",
   "metadata": {},
   "outputs": [
    {
     "data": {
      "text/plain": [
       "'2023-04-23 14:23:45'"
      ]
     },
     "execution_count": 65,
     "metadata": {},
     "output_type": "execute_result"
    }
   ],
   "source": [
    "datetime.utcnow().strftime(\"%Y-%m-%d %H:%M:%S\")"
   ]
  },
  {
   "cell_type": "code",
   "execution_count": 98,
   "id": "6bbc475b",
   "metadata": {},
   "outputs": [
    {
     "data": {
      "text/plain": [
       "['2023', '03']"
      ]
     },
     "execution_count": 98,
     "metadata": {},
     "output_type": "execute_result"
    }
   ],
   "source": [
    "datetime.strptime(\"2023-03\", \"%Y-%m\").strftime(\"%Y-%m\").split(\"-\")"
   ]
  },
  {
   "cell_type": "code",
   "execution_count": null,
   "id": "8c69661e",
   "metadata": {},
   "outputs": [],
   "source": []
  }
 ],
 "metadata": {
  "kernelspec": {
   "display_name": "proj_venv",
   "language": "python",
   "name": "proj_venv"
  },
  "language_info": {
   "codemirror_mode": {
    "name": "ipython",
    "version": 3
   },
   "file_extension": ".py",
   "mimetype": "text/x-python",
   "name": "python",
   "nbconvert_exporter": "python",
   "pygments_lexer": "ipython3",
   "version": "3.8.3"
  }
 },
 "nbformat": 4,
 "nbformat_minor": 5
}
